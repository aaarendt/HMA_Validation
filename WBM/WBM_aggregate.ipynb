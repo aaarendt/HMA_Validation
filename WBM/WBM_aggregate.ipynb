{
 "cells": [
  {
   "cell_type": "markdown",
   "metadata": {},
   "source": [
    "### Code to aggregate NASA HiMAT WBM data to GRACE mascons\n",
    "\n",
    "The WBM model results are preliminary and unpublished.\n",
    "For permission to use these data in publications, you must contact a member of the UNH WBM team:\n",
    "* Richard Lammers (Richard.lammers@unh.edu)\n",
    "* Danielle Grogan (Danielle.Grogan@unh.edu)\n",
    "* Alex Prusevich (alex.prusevich@unh.edu)"
   ]
  },
  {
   "cell_type": "code",
   "execution_count": 5,
   "metadata": {},
   "outputs": [],
   "source": [
    "# Jupter notebook magic\n",
    "%matplotlib inline\n",
    "\n",
    "# Import libraries to work with the data\n",
    "\n",
    "import os\n",
    "import matplotlib\n",
    "import matplotlib.pyplot as plt\n",
    "import numpy as np\n",
    "import pandas as pd\n",
    "import s3fs\n",
    "import xarray as xr\n",
    "import boto3\n",
    "import botocore\n",
    "from dask.diagnostics import ProgressBar\n",
    "import urllib.request\n",
    "    \n",
    "matplotlib.style.use('ggplot')\n",
    "\n",
    "from himatpy.GRACE_MASCON.pygrace import (extract_grace, get_mascon_gdf, trend_analysis, get_cmwe_trend_analysis, select_mascons, aggregate_mascons)\n",
    "\n",
    "import warnings\n",
    "warnings.filterwarnings('ignore')"
   ]
  },
  {
   "cell_type": "markdown",
   "metadata": {},
   "source": [
    "### Open the test dataset (linked to a local drive temporarily)"
   ]
  },
  {
   "cell_type": "code",
   "execution_count": null,
   "metadata": {},
   "outputs": [],
   "source": [
    "datadir = '/mnt/c/work/datadrive/WBM/total_mass/'"
   ]
  },
  {
   "cell_type": "code",
   "execution_count": 3,
   "metadata": {},
   "outputs": [],
   "source": [
    "ds = xr.open_mfdataset(datadir + '*.nc')"
   ]
  },
  {
   "cell_type": "markdown",
   "metadata": {},
   "source": [
    "### Download the GRACE data from S3 bucket\n",
    "The file is open to the public so we can use urllib"
   ]
  },
  {
   "cell_type": "code",
   "execution_count": 2,
   "metadata": {},
   "outputs": [
    {
     "data": {
      "text/plain": [
       "('../../files/GRACE/GSFC.glb.200301_201607_v02.4-ICE6G.h5',\n",
       " <http.client.HTTPMessage at 0x7fedec383438>)"
      ]
     },
     "execution_count": 2,
     "metadata": {},
     "output_type": "execute_result"
    }
   ],
   "source": [
    "fileName = '../../files/GRACE/GSFC.glb.200301_201607_v02.4-ICE6G.h5'\n",
    "urllib.request.urlretrieve ('https://himat-data.s3.us-west-2.amazonaws.com/GRACE/GSFC.glb.200301_201607_v02.4-ICE6G.h5', fileName)"
   ]
  },
  {
   "cell_type": "markdown",
   "metadata": {},
   "source": [
    "### Read in the GRACE data"
   ]
  },
  {
   "cell_type": "code",
   "execution_count": 6,
   "metadata": {},
   "outputs": [
    {
     "name": "stdout",
     "output_type": "stream",
     "text": [
      "Data extracted: \n",
      "---\n",
      "Group: mascon\n",
      "---\n",
      "<HDF5 dataset \"area_deg\": shape (1, 41168), type \"<f8\">\n",
      "<HDF5 dataset \"area_km2\": shape (1, 41168), type \"<f8\">\n",
      "<HDF5 dataset \"basin\": shape (1, 41168), type \"<f8\">\n",
      "<HDF5 dataset \"elev_flag\": shape (1, 41168), type \"<f8\">\n",
      "<HDF5 dataset \"lat_center\": shape (1, 41168), type \"<f8\">\n",
      "<HDF5 dataset \"lat_span\": shape (1, 41168), type \"<f8\">\n",
      "<HDF5 dataset \"location\": shape (1, 41168), type \"<f8\">\n",
      "<HDF5 dataset \"lon_center\": shape (1, 41168), type \"<f8\">\n",
      "<HDF5 dataset \"lon_span\": shape (1, 41168), type \"<f8\">\n",
      "---\n",
      "Group: size\n",
      "---\n",
      "<HDF5 dataset \"N_arcs\": shape (1, 1), type \"<f8\">\n",
      "<HDF5 dataset \"N_mascon_times\": shape (1, 1), type \"<f8\">\n",
      "<HDF5 dataset \"N_mascons\": shape (1, 1), type \"<f8\">\n",
      "---\n",
      "Group: solution\n",
      "---\n",
      "<HDF5 dataset \"cmwe\": shape (41168, 148), type \"<f8\">\n",
      "---\n",
      "Group: time\n",
      "---\n",
      "<HDF5 dataset \"list_ref_days_solution\": shape (1, 4128), type \"<f8\">\n",
      "<HDF5 dataset \"n_ref_days_solution\": shape (1, 148), type \"<f8\">\n",
      "<HDF5 dataset \"n_ref_days_window\": shape (1, 148), type \"<f8\">\n",
      "<HDF5 dataset \"ref_days_first\": shape (1, 148), type \"<f8\">\n",
      "<HDF5 dataset \"ref_days_last\": shape (1, 148), type \"<f8\">\n",
      "<HDF5 dataset \"ref_days_middle\": shape (1, 148), type \"<f8\">\n",
      "<HDF5 dataset \"yyyy_doy_yrplot_middle\": shape (3, 148), type \"<f8\">\n",
      "---\n",
      "Group: uncertainty\n",
      "---\n",
      "<HDF5 dataset \"leakage_2sigma\": shape (41168, 148), type \"<f8\">\n",
      "<HDF5 dataset \"leakage_trend\": shape (41168, 148), type \"<f8\">\n",
      "<HDF5 dataset \"noise_2sigma\": shape (41168, 148), type \"<f8\">\n"
     ]
    }
   ],
   "source": [
    "grace_file = os.path.abspath(fileName)\n",
    "f = extract_grace(grace_file)"
   ]
  },
  {
   "cell_type": "code",
   "execution_count": 9,
   "metadata": {},
   "outputs": [
    {
     "name": "stdout",
     "output_type": "stream",
     "text": [
      "There are 41168 Mascons in this dataset.\n"
     ]
    }
   ],
   "source": [
    "mascon = f['mascon']\n",
    "soln = f['solution']\n",
    "time = f['time']\n",
    "\n",
    "mascon_gdf = get_mascon_gdf(mascon)\n",
    "## we need to track mascon numbers later, which we get from the index, so make a new \"mascon\" column\n",
    "mascon_gdf['mascon'] = mascon_gdf.index"
   ]
  },
  {
   "cell_type": "markdown",
   "metadata": {},
   "source": [
    "### Tidy up the variable names to comply with our function (TODO: need to generalize this); quick fix to clip values to handle values associated with endoheric basins"
   ]
  },
  {
   "cell_type": "code",
   "execution_count": null,
   "metadata": {},
   "outputs": [],
   "source": [
    "ds = ds.rename({'lon':'long'}).drop('crs')\n",
    "ds = ds.where(ds['total_mass'].values < 5000, np.nan)"
   ]
  },
  {
   "cell_type": "markdown",
   "metadata": {},
   "source": [
    "### Clip the GRACE mascons to the domain of the model output"
   ]
  },
  {
   "cell_type": "code",
   "execution_count": 12,
   "metadata": {},
   "outputs": [],
   "source": [
    "masked_gdf = select_mascons(ds, mascon_gdf)"
   ]
  },
  {
   "cell_type": "markdown",
   "metadata": {},
   "source": [
    "### The main processing step that calculates a mean value across each mascon"
   ]
  },
  {
   "cell_type": "code",
   "execution_count": 13,
   "metadata": {},
   "outputs": [
    {
     "name": "stdout",
     "output_type": "stream",
     "text": [
      "[########################################] | 100% Completed |  4min  2.6s\n"
     ]
    }
   ],
   "source": [
    "with ProgressBar():\n",
    "    agg_data = aggregate_mascons(ds, masked_gdf, scale_factor = 1)"
   ]
  },
  {
   "cell_type": "markdown",
   "metadata": {},
   "source": [
    "### Convert array to Pandas dataframe for plotting"
   ]
  },
  {
   "cell_type": "code",
   "execution_count": 14,
   "metadata": {},
   "outputs": [],
   "source": [
    "A = agg_data['data']\n",
    "\n",
    "names = ['products', 'mascons', 'time']\n",
    "index = pd.MultiIndex.from_product([agg_data[n] for n in names], names=names)\n",
    "df = pd.DataFrame({'A': A.flatten()}, index=index)['A']\n",
    "df = df.unstack(level='products').swaplevel().sort_index()\n",
    "df.columns = agg_data['products']\n",
    "df.index.names = ['date','mascon']"
   ]
  },
  {
   "cell_type": "markdown",
   "metadata": {},
   "source": [
    "### Sample plot for a single mascon"
   ]
  },
  {
   "cell_type": "code",
   "execution_count": 16,
   "metadata": {},
   "outputs": [
    {
     "data": {
      "text/plain": [
       "<matplotlib.axes._subplots.AxesSubplot at 0x7f47de947f60>"
      ]
     },
     "execution_count": 16,
     "metadata": {},
     "output_type": "execute_result"
    },
    {
     "data": {
      "image/png": "[encoded data removed]",
      "text/plain": [
       "<Figure size 432x288 with 1 Axes>"
      ]
     },
     "metadata": {},
     "output_type": "display_data"
    }
   ],
   "source": [
    "df['total_mass'].iloc[df.index.get_level_values('mascon') == 5795].plot()"
   ]
  }
 ],
 "metadata": {
  "kernelspec": {
   "display_name": "himat",
   "language": "python",
   "name": "himat"
  },
  "language_info": {
   "codemirror_mode": {
    "name": "ipython",
    "version": 3
   },
   "file_extension": ".py",
   "mimetype": "text/x-python",
   "name": "python",
   "nbconvert_exporter": "python",
   "pygments_lexer": "ipython3",
   "version": "3.6.7"
  }
 },
 "nbformat": 4,
 "nbformat_minor": 2
}
